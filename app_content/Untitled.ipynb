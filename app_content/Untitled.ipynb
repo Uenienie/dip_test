{
 "cells": [
  {
   "cell_type": "code",
   "execution_count": null,
   "metadata": {},
   "outputs": [
    {
     "name": "stdout",
     "output_type": "stream",
     "text": [
      " * Serving Flask app \"app\" (lazy loading)\n",
      " * Environment: production\n",
      "   WARNING: This is a development server. Do not use it in a production deployment.\n",
      "   Use a production WSGI server instead.\n",
      " * Debug mode: on\n"
     ]
    },
    {
     "name": "stderr",
     "output_type": "stream",
     "text": [
      " * Restarting with stat\n",
      " * Restarting with stat\n"
     ]
    }
   ],
   "source": [
    "run app.py"
   ]
  },
  {
   "cell_type": "code",
   "execution_count": 4,
   "metadata": {
    "scrolled": true
   },
   "outputs": [
    {
     "name": "stdout",
     "output_type": "stream",
     "text": [
      "Requirement already satisfied: meteor in c:\\users\\g1723012\\anaconda3\\lib\\site-packages (0.1.3)\n",
      "Requirement already satisfied: qrcode in c:\\users\\g1723012\\anaconda3\\lib\\site-packages (from meteor) (6.1)\n",
      "Requirement already satisfied: Pillow in c:\\users\\g1723012\\anaconda3\\lib\\site-packages (from meteor) (8.0.1)\n",
      "Requirement already satisfied: six in c:\\users\\g1723012\\anaconda3\\lib\\site-packages (from qrcode->meteor) (1.15.0)\n",
      "Requirement already satisfied: colorama in c:\\users\\g1723012\\anaconda3\\lib\\site-packages (from qrcode->meteor) (0.4.4)\n",
      "Note: you may need to restart the kernel to use updated packages.\n"
     ]
    },
    {
     "name": "stderr",
     "output_type": "stream",
     "text": [
      "WARNING: Error parsing requirements for chardet: [Errno 13] Permission denied: 'c:\\\\users\\\\g1723012\\\\anaconda3\\\\lib\\\\site-packages\\\\chardet-3.0.4.dist-info\\\\METADATA'\n"
     ]
    }
   ],
   "source": [
    "pip install meteor"
   ]
  },
  {
   "cell_type": "code",
   "execution_count": 9,
   "metadata": {},
   "outputs": [
    {
     "ename": "SyntaxError",
     "evalue": "invalid syntax (<ipython-input-9-18756b4cd297>, line 1)",
     "output_type": "error",
     "traceback": [
      "\u001b[1;36m  File \u001b[1;32m\"<ipython-input-9-18756b4cd297>\"\u001b[1;36m, line \u001b[1;32m1\u001b[0m\n\u001b[1;33m    npm install meteor\u001b[0m\n\u001b[1;37m              ^\u001b[0m\n\u001b[1;31mSyntaxError\u001b[0m\u001b[1;31m:\u001b[0m invalid syntax\n"
     ]
    }
   ],
   "source": [
    "npm install meteor"
   ]
  },
  {
   "cell_type": "code",
   "execution_count": null,
   "metadata": {},
   "outputs": [],
   "source": []
  }
 ],
 "metadata": {
  "kernelspec": {
   "display_name": "Python 3",
   "language": "python",
   "name": "python3"
  },
  "language_info": {
   "codemirror_mode": {
    "name": "ipython",
    "version": 3
   },
   "file_extension": ".py",
   "mimetype": "text/x-python",
   "name": "python",
   "nbconvert_exporter": "python",
   "pygments_lexer": "ipython3",
   "version": "3.7.9"
  }
 },
 "nbformat": 4,
 "nbformat_minor": 4
}
